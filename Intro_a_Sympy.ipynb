{
  "nbformat": 4,
  "nbformat_minor": 0,
  "metadata": {
    "colab": {
      "provenance": [],
      "authorship_tag": "ABX9TyMSxvLpSkwLYvug59d71ATQ",
      "include_colab_link": true
    },
    "kernelspec": {
      "name": "python3",
      "display_name": "Python 3"
    },
    "language_info": {
      "name": "python"
    }
  },
  "cells": [
    {
      "cell_type": "markdown",
      "metadata": {
        "id": "view-in-github",
        "colab_type": "text"
      },
      "source": [
        "<a href=\"https://colab.research.google.com/github/URC-LCDN/calculo_con_python/blob/main/Intro_a_Sympy.ipynb\" target=\"_parent\"><img src=\"https://colab.research.google.com/assets/colab-badge.svg\" alt=\"Open In Colab\"/></a>"
      ]
    },
    {
      "cell_type": "markdown",
      "source": [
        "![urc_logo_ext.png](data:image/png;base64,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)"
      ],
      "metadata": {
        "id": "rOsgYfB8NNbp"
      }
    },
    {
      "cell_type": "markdown",
      "source": [
        "**Actualizado**: Julio de 2023"
      ],
      "metadata": {
        "id": "6lgiyip7Nnzs"
      }
    },
    {
      "cell_type": "markdown",
      "source": [
        "# Introducción"
      ],
      "metadata": {
        "id": "Y9ctc9jMNu4c"
      }
    },
    {
      "cell_type": "markdown",
      "source": [
        "Cuando desarrollamos matemáticas, existe la necesidad de realizar cálculos de manera simbólica, para este fin fue creado `Sympy` por [Ondřej Čertík](https://ondrejcertik.com/) en 2005.\n",
        "Actualmente los desarrolladores principales son Ondřej Čertík y Aaron Meurer.\n"
      ],
      "metadata": {
        "id": "QMZVtkp8Nz7H"
      }
    },
    {
      "cell_type": "markdown",
      "source": [
        "[`SymPy`](https://www.sympy.org/es/) es una biblioteca escrita en `Python`, cuyo objetivo es reunir todas las características de un [sistema de álgebra computacional ](https://es.wikipedia.org/wiki/Sistema_de_%C3%A1lgebra_computacional \"Sistema de álgebra computacional\") (CAS por sus siglas en inglés). Este módulo no requiere ninguna biblioteca externa, salvo para soporte gráfico."
      ],
      "metadata": {
        "id": "4kn38RwFRITF"
      }
    },
    {
      "cell_type": "markdown",
      "source": [
        "# ¿Por qué `Sympy`?"
      ],
      "metadata": {
        "id": "UsP7zeSCRZR6"
      }
    },
    {
      "cell_type": "markdown",
      "source": [
        "De acuerdo a la página oficial https://www.sympy.org/es/ de `Sympy`.\n",
        "\n",
        "`Sympy` se rige bajo la licencia BSD (Berkeley Software Distribution), es decir, es gratis y libre. Además, como se menciono anteriormente `Sympy` está escrito en `Python` y por consecuencia lo usa como su lenguaje.\n",
        "\n",
        "Además, es ligero por que solo depende del móoulo [`mpmath`](https://mpmath.org/), que una biblioteca para aritmética de punto flotante con precisión arbitraria.\n",
        "\n",
        "Por último, `Sympy` puede ser usado como una herramienta interactiva, y/o encajado en otras aplicaciones y extendido con funcionalidades personalizadas.\n"
      ],
      "metadata": {
        "id": "QQ8jHvVLRkoV"
      }
    },
    {
      "cell_type": "markdown",
      "source": [
        "# ¿Qué hace que `Sympy` sea una mejor opción que las alternativas?"
      ],
      "metadata": {
        "id": "6i-SfItOgHBX"
      }
    },
    {
      "cell_type": "markdown",
      "source": [
        "Existen muchos sistemas de álgebra computacional en la web. En este [artículo](http://en.wikipedia.org/wiki/List_of_computer_algebra_systems) de Wikipedia se enumeran a muchos de ellos.\n",
        "\n",
        "Pero, ¿Qué hace que `Sympy` sea una mejor opción que las alternativas?, claro desde nuestro punto de vista.\n",
        "\n",
        "Como se mencionó anteriormente, `Sympy` es completamente gratuito, de código abierto y está licenciado bajo la licencia liberal BSD, por lo que puede modificar el código fuente e incluso venderlo si lo desea. Esto contrasta con los sistemas comerciales populares como **Maple** o **Mathematica** que cuestan cientos de dólares en licencias.\n",
        "\n",
        "Otra razón es que `Sympy` usa Python como lenguaje y la mayoría de los sistemas de álgebra informática tienen que inventar su propio idioma.\n",
        "\n",
        "Por último, existe una gran comunidad que utiliza `Sympy` y eso hace que si tienes dudas en como usarlo no estás solo, hay muchos foros donde te pueden ayudar. Además, el repositorio de Github https://github.com/sympy/sympy de `Sympy` tiene más de $11,000$ estrellas, lo cual nos da una idea de cual tan grande es su comunidad."
      ],
      "metadata": {
        "id": "EyZf3FU_gFmv"
      }
    },
    {
      "cell_type": "markdown",
      "source": [
        "## Proyectos que utilizan Sympy"
      ],
      "metadata": {
        "id": "lTVndOllT6cR"
      }
    },
    {
      "cell_type": "markdown",
      "source": [
        "Ejemplos de algunos proyectos que utilizan `Sympy`:\n",
        "\n",
        "-   **[galgebra](https://github.com/brombo/galgebra)** : Álgebra Geométrica Simbólica\n",
        "-   **[Pyneqsys](https://github.com/bjodah/pyneqsys)** : Resuelve numéricamente sistemas definidos simbólicamente de ecuaciones no lineales.\n",
        "-   **[ChemPy](https://github.com/bjodah/chempy)** : Un paquete útil para la química escrita en Python.\n",
        "-   **[Spyder](https://www.spyder-ide.org/)** : Un entorno de desarrollo científico de Python, un Python equivalente a `Rstudio` o `MATLAB`; la compatibilidad completa con SymPy se puede habilitar en las [Consolas IPython](https://docs.spyder-ide.org/ipythonconsole.html) de Spyder.\n",
        "-  **[PoissonGeometry](https://github.com/appliedgeometry/poissongeometry)**: Geometría de Poisson simbólica.\n",
        "-  **[SageMath](https://github.com/appliedgeometry/poissongeometry)**: Es un sistema de software matemático gratuito de código abierto con licencia GPL."
      ],
      "metadata": {
        "id": "acdIqO6aTynH"
      }
    },
    {
      "cell_type": "markdown",
      "source": [
        "# ¿Qué es la Computación Simbólica?\n",
        "\n"
      ],
      "metadata": {
        "id": "-u7OzI5lYrz0"
      }
    },
    {
      "cell_type": "markdown",
      "source": [
        "El cálculo simbólico, (también conocido como cálculo algebraico o álgebra computacional), es un área científica que se refiere al estudio y desarrollo de algoritmos y software para la manipulación de expresiones matemáticas y otros objetos matemáticos, es decir, los objetos matemáticos se representan exactamente y no aproximadamente como ocurren en el cálculo numérico.\n",
        "\n"
      ],
      "metadata": {
        "id": "vAaBqzqFYtLN"
      }
    },
    {
      "cell_type": "markdown",
      "source": [
        "La diferencia entre la computación científica y el cálculo simbólico, es que  la computación científica se basa generalmente en el análisis numérico con números aproximados en punto flotante; mientras que, el álgebra computacional enfatiza el cálculo exacto con expresiones que contengan variables que no tienen cualquier valor dado y por lo tanto son manipulados como símbolos (de ahí se debe el nombre de cálculo simbólico)."
      ],
      "metadata": {
        "id": "ZcUwSkwoaKXD"
      }
    },
    {
      "cell_type": "markdown",
      "source": [
        "# Tutorial de `Sympy`"
      ],
      "metadata": {
        "id": "xhJ3UFlOaMAD"
      }
    },
    {
      "cell_type": "markdown",
      "source": [
        "### Motivación"
      ],
      "metadata": {
        "id": "gWtxtYgQd8Ok"
      }
    },
    {
      "cell_type": "markdown",
      "source": [
        "Comencemos con la siguiente situación: nos importa calcular la raíz cuadrada de 4 ($\\sqrt 4$), para esto utilizamos la función `sqrt()` incorporada al módulo `math` de la siguiente manera:  "
      ],
      "metadata": {
        "id": "82s0GIWxacex"
      }
    },
    {
      "cell_type": "code",
      "source": [
        "import math\n",
        "math.sqrt(4)"
      ],
      "metadata": {
        "id": "d-B_Ql3SazCp"
      },
      "execution_count": null,
      "outputs": []
    },
    {
      "cell_type": "markdown",
      "source": [
        "Para calcular la $\\sqrt 8$, procedemos de una manera análoga."
      ],
      "metadata": {
        "id": "X3NvOjm0bCKp"
      }
    },
    {
      "cell_type": "code",
      "execution_count": null,
      "metadata": {
        "id": "1jlT_Ee_NLzo"
      },
      "outputs": [],
      "source": [
        "import math\n",
        "math.sqrt(8)"
      ]
    },
    {
      "cell_type": "markdown",
      "source": [
        "Se tiene que $2$ es un resultado exacto para la $\\sqrt 4$, pero $2.82842712475$ es un resultado aproximado para $\\sqrt 8$, porque no es la raíz cuadrada exacta de 8, es más el resultado exacto de $\\sqrt 8$ no puede representarse con un decimal finito, ya que es un número irracional.  "
      ],
      "metadata": {
        "id": "wHySpsE4bWmP"
      }
    },
    {
      "cell_type": "markdown",
      "source": [
        "Si todo lo que nos importaba era la forma decimal de $\\sqrt 8$, estaríamos listos."
      ],
      "metadata": {
        "id": "FOVI7HEHcC3x"
      }
    },
    {
      "cell_type": "markdown",
      "source": [
        "Pero supongamos que queremos ir más allá, para esto recordemos que\n",
        "\n",
        "$$\\sqrt 8 =  \\sqrt{4\\cdot 2} =2\\sqrt 2.$$\n",
        "\n",
        "Sería difícil deducir esto del resultado anterior (dado en punto flotante)."
      ],
      "metadata": {
        "id": "Toff3bbKcY_l"
      }
    },
    {
      "cell_type": "markdown",
      "source": [
        "Aquí es donde descubrimos el poder la computación simbólica.\n",
        "\n",
        "Con un sistema de computación simbólico como SymPy, las raíces cuadradas de los números que no son cuadrados perfectos quedan sin evaluar por defecto, para esto utilizamos la función `sqrt()` incorporada al módulo `Sympy` de la siguiente manera:"
      ],
      "metadata": {
        "id": "cjEJ6MNVclfU"
      }
    },
    {
      "cell_type": "code",
      "source": [
        "import sympy\n",
        "sympy.sqrt(8)"
      ],
      "metadata": {
        "id": "1QUR35iNctHU"
      },
      "execution_count": null,
      "outputs": []
    },
    {
      "cell_type": "markdown",
      "source": [
        "### Definiendo símbolos"
      ],
      "metadata": {
        "id": "DUILL7r-cZtf"
      }
    },
    {
      "cell_type": "markdown",
      "source": [
        "El ejemplo dado en la motivación nos muestra cómo podemos manipular números irracionales usando `Sympy`, pero esté módulo es mucho más poderoso que eso.\n",
        "\n",
        "Los sistemas de computación simbólica como `Sympy`, son capaces de calcular expresiones simbólicas con varias variables.\n",
        "\n",
        "En `Sympy`, las variables se definen utilizando la función `symbols`. Recuerde que las variables siempre se deben definir antes de ser utilizadas, como ocurren normalmente en cualquier lenguaje de programación.\n",
        "\n",
        "Empecemos definiendo una expresión simbólica, por ejemplo, la expresión $x+2yx+2y^2$."
      ],
      "metadata": {
        "id": "SsdL_7RkeC63"
      }
    },
    {
      "cell_type": "code",
      "source": [
        "import sympy\n",
        "x = sympy.symbols('x')\n",
        "y = sympy.symbols('y')\n",
        "expresion = x + 2*y*x + 2*y**2\n",
        "expresion"
      ],
      "metadata": {
        "id": "p51RAUlZeDGB"
      },
      "execution_count": null,
      "outputs": []
    },
    {
      "cell_type": "markdown",
      "source": [
        "En el ejemplo anterior, definimos los símbolos uno por uno, pero también podemos definir muchos símbolos en una sola sentencia, reescribiendo el bloque de código anterior tenemos:"
      ],
      "metadata": {
        "id": "7XKPXer6iF88"
      }
    },
    {
      "cell_type": "code",
      "source": [
        "import sympy\n",
        "x, y = sympy.symbols('x, y')\n",
        "expresion = x + 2*y*x + 2*y**2\n",
        "expresion"
      ],
      "metadata": {
        "id": "TkZe_BnziVcR"
      },
      "execution_count": null,
      "outputs": []
    },
    {
      "cell_type": "markdown",
      "source": [
        "En Matemáticas, es común escribir expresiones con variables con sub-índices, por ejemplo $x_{0}, ..., x_{n}$. Esto también, es posible hacerlo con la función `symbols` de `Sympy` y en una sola línea de código.\n",
        "\n",
        "Supongamos que necesitamos 10 variables de la forma $x_1, x_2, x_3, x_4, x_5, x_6, x_7, x_8, x_9, x_{10}$, entonces ejecutamos lo siguiente."
      ],
      "metadata": {
        "id": "A4Rf98w9i118"
      }
    },
    {
      "cell_type": "code",
      "source": [
        "import sympy\n",
        "# Syntax x=variable, 1=indice inicial y 11=indice final\n",
        "x = sympy.symbols('x1:11')\n",
        "x"
      ],
      "metadata": {
        "id": "0Fa1yDnAjidm"
      },
      "execution_count": null,
      "outputs": []
    },
    {
      "cell_type": "markdown",
      "source": [
        "Note que la variable `x`, ahora es una lista de variables símbolicas.\n",
        "\n"
      ],
      "metadata": {
        "id": "2_zFQhCTlICJ"
      }
    },
    {
      "cell_type": "markdown",
      "source": [
        "#### Ejercicio"
      ],
      "metadata": {
        "id": "sxocpfG1li4U"
      }
    },
    {
      "cell_type": "markdown",
      "source": [
        "Escriba las siguientes expresiones en `Sympy` e indique que lugar geométrico representan.\n",
        "\n",
        "*   $x_1^2 + x_2^2 - 1$\n",
        "*   $-y^{2} - 12x + 12$\n",
        "*   $-x_2 + x_1^2 - 4x_1 + 1$\n",
        "*   $(x-3)^2 + (y+1)^2 - 16$  \n",
        "\n",
        "**Hint**: Para indicar el lugar geométrico iguale las expresiones a cero."
      ],
      "metadata": {
        "id": "AVbz8GF2lm4a"
      }
    },
    {
      "cell_type": "code",
      "source": [
        "# Escribe aquí el ejercicio"
      ],
      "metadata": {
        "id": "t2JgIdyosC6d"
      },
      "execution_count": null,
      "outputs": []
    },
    {
      "cell_type": "markdown",
      "source": [
        "### Operaciones con símbolos"
      ],
      "metadata": {
        "id": "Navgpo_Yn5UJ"
      }
    },
    {
      "cell_type": "markdown",
      "source": [
        "#### Multiplicación"
      ],
      "metadata": {
        "id": "46_tV9pNq7n4"
      }
    },
    {
      "cell_type": "markdown",
      "source": [
        "Considere la expresión $x+2y$\n",
        "\n",
        "¿Qué ocurre, si multiplico la expresión por $x$?,\n",
        "\n",
        "¿Cuál sería el resultado $x(x+2y)$ ó $x^2 +2xy$?\n",
        "\n",
        "Lo anterior en `Sympy` se hace de la siguiente manera:"
      ],
      "metadata": {
        "id": "5TGJhpI5oQlf"
      }
    },
    {
      "cell_type": "code",
      "source": [
        "import sympy\n",
        "x, y = sympy.symbols('x, y')\n",
        "expresion = x + 2*y\n",
        "x*expresion"
      ],
      "metadata": {
        "id": "hVIYjcQOpDgr"
      },
      "execution_count": null,
      "outputs": []
    },
    {
      "cell_type": "markdown",
      "source": [
        "Como notamos, el resultado no está desarrollado, esto nos dice que la mayoría de las simplificaciones no se realizan automáticamente en `Sympy`."
      ],
      "metadata": {
        "id": "diLbXWxIp4r9"
      }
    },
    {
      "cell_type": "markdown",
      "source": [
        "Esto se debe a que podríamos preferir la forma factorizada $x(x+2y)$ o la forma desarrollada $x^2+2xy$.\n",
        "\n",
        "Ambas formas son útiles en diferentes circunstancias y tenemos funciones para ir de una forma a la otra."
      ],
      "metadata": {
        "id": "c10rFaFsqGan"
      }
    },
    {
      "cell_type": "code",
      "source": [
        "import sympy\n",
        "# factorizada a desarrollada\n",
        "expresion_desarrollada = sympy.expand(x*expresion)\n",
        "expresion_desarrollada"
      ],
      "metadata": {
        "id": "pv_sQj2JqOi2"
      },
      "execution_count": null,
      "outputs": []
    },
    {
      "cell_type": "code",
      "source": [
        "import sympy\n",
        "# desarrollada a factorizada\n",
        "expresion_factorizada = sympy.factor(expresion_desarrollada)\n",
        "expresion_factorizada"
      ],
      "metadata": {
        "id": "6gwtnAQMqi2N"
      },
      "execution_count": null,
      "outputs": []
    },
    {
      "cell_type": "markdown",
      "source": [
        "#### Suma"
      ],
      "metadata": {
        "id": "TR5dn1PDq3vU"
      }
    },
    {
      "cell_type": "markdown",
      "source": [
        "Podemos sumar dos expresiones simplemente agregando `+`, por ejemplo para sumar la expresión $x+2y$ con ella mismo, hacemos lo siguiente:"
      ],
      "metadata": {
        "id": "iaTUMT03q-Tk"
      }
    },
    {
      "cell_type": "code",
      "source": [
        "import sympy\n",
        "x, y = sympy.symbols('x, y')\n",
        "expresion = x + 2*y\n",
        "expresion + expresion"
      ],
      "metadata": {
        "id": "JZSe-oe0rHFa"
      },
      "execution_count": null,
      "outputs": []
    },
    {
      "cell_type": "markdown",
      "source": [
        "#### Resta"
      ],
      "metadata": {
        "id": "16aGVLjyraGL"
      }
    },
    {
      "cell_type": "markdown",
      "source": [
        "Podemos restar dos expresiones simplemente agregando -, por ejemplo para restar la expresión  𝑥+2𝑦  con ella misma, hacemos lo siguiente:"
      ],
      "metadata": {
        "id": "x6PpxkTorbYR"
      }
    },
    {
      "cell_type": "code",
      "source": [
        "import sympy\n",
        "x, y = sympy.symbols('x, y')\n",
        "expresion = x + 2*y\n",
        "expresion - expresion"
      ],
      "metadata": {
        "id": "83PrClhdriKi"
      },
      "execution_count": null,
      "outputs": []
    },
    {
      "cell_type": "markdown",
      "source": [
        "#### Exponenciación"
      ],
      "metadata": {
        "id": "-V_DQ5Y9rl4M"
      }
    },
    {
      "cell_type": "markdown",
      "source": [
        "Como notamos anteriormente, para elevar una variable a una potencia utilizamos `**`, por ejemplo, para escribir la expresión $x^5+x^3-1$.  "
      ],
      "metadata": {
        "id": "X5LGZ8WFroF8"
      }
    },
    {
      "cell_type": "code",
      "source": [
        "import sympy\n",
        "x = sympy.symbols('x')\n",
        "expresion = x**5 + x**3 -1\n",
        "expresion"
      ],
      "metadata": {
        "id": "V6vFrqsor2zM"
      },
      "execution_count": null,
      "outputs": []
    },
    {
      "cell_type": "markdown",
      "source": [
        "#### Ejercicio"
      ],
      "metadata": {
        "id": "I3XxjhEir_Pz"
      }
    },
    {
      "cell_type": "markdown",
      "source": [
        "Escribe $5$ expresiones matemáticas y realiza al menos cada una de las operaciones mencionadas anteriormente con las expresiones que escogiste."
      ],
      "metadata": {
        "id": "aI87KbxnsBZ0"
      }
    },
    {
      "cell_type": "code",
      "source": [
        "# Escribe aquí el ejercicio"
      ],
      "metadata": {
        "id": "rMiN1SI4sICO"
      },
      "execution_count": null,
      "outputs": []
    },
    {
      "cell_type": "markdown",
      "source": [
        "### Descubriendo el poder"
      ],
      "metadata": {
        "id": "IGFHjxQ_ss8h"
      }
    },
    {
      "cell_type": "markdown",
      "source": [
        "El poder real de `Sympy` es la capacidad de hacer todo tipo de cálculos simbólicamente.\n",
        "\n",
        "Dicho módulo, puede simplificar expresiones, calcular derivados, integrales y límites, resolver ecuaciones, trabajar con matrices, etc.\n",
        "\n",
        "Aquí hay una pequeña muestra del poder simbólico que `Sympy` es capaz de hacer, esperando despertar tu curiosidad."
      ],
      "metadata": {
        "id": "9tx7_rFrsxB_"
      }
    },
    {
      "cell_type": "markdown",
      "source": [
        " Preparamos el entorno de trabajo"
      ],
      "metadata": {
        "id": "TqzyGp1LtCxz"
      }
    },
    {
      "cell_type": "code",
      "source": [
        "import sympy\n",
        "x = sympy.symbols('x')"
      ],
      "metadata": {
        "id": "lvhELdows-um"
      },
      "execution_count": null,
      "outputs": []
    },
    {
      "cell_type": "markdown",
      "source": [
        "#### Derivadas"
      ],
      "metadata": {
        "id": "itVAARoytMDE"
      }
    },
    {
      "cell_type": "markdown",
      "source": [
        "Calculemos la derivada de la función $sin(x)e^x$"
      ],
      "metadata": {
        "id": "SuFxqmErtPNe"
      }
    },
    {
      "cell_type": "code",
      "source": [
        "# Notacion\n",
        "# Primer parametro es la funcion a derivar,\n",
        "# Segundo parametro es la variable en la que deriva.\n",
        "sympy.diff(sympy.sin(x)*sympy.exp(x), x)"
      ],
      "metadata": {
        "id": "1rD07gW-tNO6"
      },
      "execution_count": null,
      "outputs": []
    },
    {
      "cell_type": "markdown",
      "source": [
        "#### Integrales"
      ],
      "metadata": {
        "id": "jarCr8M4tqSI"
      }
    },
    {
      "cell_type": "markdown",
      "source": [
        "Calculemos la siguiente integral indefinida $\\int_{\\infty}^{-\\infty}\\sin(x^2) dx$"
      ],
      "metadata": {
        "id": "rRlmgWy4ttgS"
      }
    },
    {
      "cell_type": "code",
      "source": [
        "# Notacion\n",
        "# Primer parametro es la funcion a integrar,\n",
        "# Segundo parametro es una tupla:\n",
        "#   El primer parametro indica la vairable en la que se integra\n",
        "#   El segundo parametro indica el limite inferior\n",
        "#   El tercer parametro indica el limite superior.\n",
        "sympy.integrate(sympy.sin(x**2),  (x,  -sympy.oo,  sympy.oo))"
      ],
      "metadata": {
        "id": "c06ONoZ1t1v6"
      },
      "execution_count": null,
      "outputs": []
    },
    {
      "cell_type": "markdown",
      "source": [
        "Calculemos la siguiente integral $\\int (e^x\\sin(x) + e^x\\cos(x)) dx$ de forma simbólica."
      ],
      "metadata": {
        "id": "GE6gc5vZuSyz"
      }
    },
    {
      "cell_type": "code",
      "source": [
        "# Notacion, si queremos como resultado una expresion simbolica no debemos\n",
        "# agregar los parametros que indican los limites superior e inferior\n",
        "sympy.integrate(sympy.exp(x)*sympy.sin(x) + sympy.exp(x)*sympy.cos(x), x)"
      ],
      "metadata": {
        "id": "h-RkkxQ7ucx7"
      },
      "execution_count": null,
      "outputs": []
    },
    {
      "cell_type": "markdown",
      "source": [
        "#### Límites"
      ],
      "metadata": {
        "id": "A1uwnd4svH43"
      }
    },
    {
      "cell_type": "markdown",
      "source": [
        "Calculemos el límite  $\\lim_{x\\to 0}\\frac{\\sin(x)}{x}$."
      ],
      "metadata": {
        "id": "9B5OL_1ivJcG"
      }
    },
    {
      "cell_type": "code",
      "source": [
        "# Notacion\n",
        "# Primer parametro es la funcion a calcular el limite,\n",
        "# Segundo parametro es la variable en la que se va a calcular el limite.\n",
        "# Tercer parametro es el valor que tomara la el limite\n",
        "sympy.limit(sympy.sin(x), x, 0)"
      ],
      "metadata": {
        "id": "cWwLZcE7vP5K"
      },
      "execution_count": null,
      "outputs": []
    },
    {
      "cell_type": "markdown",
      "source": [
        "Existen más funciones que están en `Sympy`, como por ejemplo, el encontrar soluciones de un polinomio, encontrar soluciones a un sistema de ecuaciones, entre otras.\n",
        "\n",
        "Invitamos al lector a consultar el siguiente link https://docs.sympy.org/latest/tutorials/intro-tutorial/features.html para que descubra por sí mismo, todo lo que es posible hacer con este módulo."
      ],
      "metadata": {
        "id": "wj8WEXmDwsgs"
      }
    },
    {
      "cell_type": "markdown",
      "source": [
        "#### Ejercicio"
      ],
      "metadata": {
        "id": "iAF-9114XIvI"
      }
    },
    {
      "cell_type": "markdown",
      "source": [
        "Escribe y explica 3 funciones del módulo de `Sympy` que no han sido descritas anteiormente."
      ],
      "metadata": {
        "id": "uFMrIsRtXLba"
      }
    },
    {
      "cell_type": "code",
      "source": [
        "# Escribe aqui tus funciones"
      ],
      "metadata": {
        "id": "6IXfqxClXW-b"
      },
      "execution_count": null,
      "outputs": []
    },
    {
      "cell_type": "markdown",
      "source": [
        "# Biblografía"
      ],
      "metadata": {
        "id": "QVkQ-yLjOAyz"
      }
    },
    {
      "cell_type": "markdown",
      "source": [
        "*   Sympy. (s.f.). Sympy - Main Page. https://www.sympy.org/en/index.html\n",
        "*   Meurer A, Smith CP, Paprocki M, Čertík O, Kirpichev SB, Rocklin M, Kumar A, Ivanov S, Moore JK, Singh S, Rathnayake T, Vig S, Granger BE, Muller RP,\n",
        "Bonazzi F, Gupta H, Vats S, Johansson F, Pedregosa F, Curry MJ, Terrel AR,\n",
        "Roučka Š, Saboo A, Fernando I, Kulal S, Cimrman R, Scopatz A. (2017) **SymPy:\n",
        "symbolic computing in Python.** *PeerJ Computer Science* 3:e103\n",
        "https://doi.org/10.7717/peerj-cs.103"
      ],
      "metadata": {
        "id": "SoU_MXF0OCqk"
      }
    }
  ]
}