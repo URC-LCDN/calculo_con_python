{
  "nbformat": 4,
  "nbformat_minor": 0,
  "metadata": {
    "colab": {
      "provenance": [],
      "collapsed_sections": [
        "NbPcIF5txxhp",
        "lk-ntDK4nzBM"
      ],
      "authorship_tag": "ABX9TyO5qryJWoVKOj2sSd8kfO7r",
      "include_colab_link": true
    },
    "kernelspec": {
      "name": "python3",
      "display_name": "Python 3"
    },
    "language_info": {
      "name": "python"
    }
  },
  "cells": [
    {
      "cell_type": "markdown",
      "metadata": {
        "id": "view-in-github",
        "colab_type": "text"
      },
      "source": [
        "<a href=\"https://colab.research.google.com/github/URC-LCDN/calculo_con_python/blob/main/SubconjuntosDelPlano.ipynb\" target=\"_parent\"><img src=\"https://colab.research.google.com/assets/colab-badge.svg\" alt=\"Open In Colab\"/></a>"
      ]
    },
    {
      "cell_type": "markdown",
      "source": [
        "![urc_logo_ext.png](data:image/png;base64,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)"
      ],
      "metadata": {
        "id": "YfeuNcJxVrU-"
      }
    },
    {
      "cell_type": "markdown",
      "source": [
        "**Actualizado**: Agosto de 2023"
      ],
      "metadata": {
        "id": "iR7XL_taVpYp"
      }
    },
    {
      "cell_type": "markdown",
      "source": [
        "## Introducción"
      ],
      "metadata": {
        "id": "fYpdY4fHgnvB"
      }
    },
    {
      "cell_type": "markdown",
      "source": [
        "En este colab explicamos una forma de aplicar una implementación en Python para graficar subconjutos del plano."
      ],
      "metadata": {
        "id": "tWGQYd8EVL1C"
      }
    },
    {
      "cell_type": "markdown",
      "source": [
        "##  Subconjuntos del plano"
      ],
      "metadata": {
        "id": "ykz0ehIot66X"
      }
    },
    {
      "cell_type": "markdown",
      "source": [
        "Recordaremos algunas definiciones básicas de la Teoría de Conjuntos como lo es la unión e intersección, por mencionar algunos.    \n",
        "\n",
        "Para el estudio de la Geometría Analitica es conveniente saber cómo visualizar regiones de plano dada una condición."
      ],
      "metadata": {
        "id": "q0LRPgSJ8yz0"
      }
    },
    {
      "cell_type": "markdown",
      "source": [
        "### Definición 1 _Igualdad_"
      ],
      "metadata": {
        "id": "gKVItGw09Uku"
      }
    },
    {
      "cell_type": "markdown",
      "source": [
        "Decimos que los conjuntos $A$ y $B$ son iguales, sí y solo sí $A\\subset B$ y $B\\subset A$."
      ],
      "metadata": {
        "id": "M6SKPwZe9ZBe"
      }
    },
    {
      "cell_type": "markdown",
      "source": [
        "### Definición 2 _Unión_"
      ],
      "metadata": {
        "id": "2E95kDAKWAkh"
      }
    },
    {
      "cell_type": "markdown",
      "source": [
        "La unión del conjunto $A$ con el conjunto $B$ es el conjunto cuyos elementos\n",
        "pertenecen al menos a uno de los conjuntos $A$ y $B$, la notación de lo anterior es\n",
        "\n",
        "$$A\\cup B = \\{ x \\ | \\ x\\in A \\textit{ ó } x\\in B \\}.$$"
      ],
      "metadata": {
        "id": "LzBNxCeXWGGM"
      }
    },
    {
      "cell_type": "markdown",
      "source": [
        "### Definición 3 _Intersección_"
      ],
      "metadata": {
        "id": "5_2tAg87_PbS"
      }
    },
    {
      "cell_type": "markdown",
      "source": [
        "La intersección de los conjuntos $A$ y $B$ es el conjunto cuyos elementos\n",
        "pertenecen tanto a $A$ como a $B$; la notación es\n",
        "\n",
        "$$A\\cap B = \\{x \\ | \\ x\\in A \\textit{ y } x\\in B \\}.$$"
      ],
      "metadata": {
        "id": "uUrDyQld_Wry"
      }
    },
    {
      "cell_type": "markdown",
      "source": [
        "### Definición 4 _Complemento de $A$_"
      ],
      "metadata": {
        "id": "WMP6wzWCCn4U"
      }
    },
    {
      "cell_type": "markdown",
      "source": [
        "El complemento de un conjunto $A$ es el conjunto que contiene todos los elementos que no están en el conjunto $A$ pero si en el\n",
        "universo bajo consideración que se encuentra $A$. La notación es  \n",
        "\n",
        "$$A^{−} = \\{ x \\ | \\ x \\notin A \\}.$$\n",
        "\n",
        "\n",
        "Otros libros utilizan la notacion $A^{c}$ para denotar al mismo conjunto."
      ],
      "metadata": {
        "id": "aUp4Qj8zR6x0"
      }
    },
    {
      "cell_type": "markdown",
      "source": [
        "### Definición 5 _Diferencia_"
      ],
      "metadata": {
        "id": "AloObL1ET59f"
      }
    },
    {
      "cell_type": "markdown",
      "source": [
        "La diferencia del conjunto $A$ con el conjunto $B$, es el conjunto de elementos\n",
        "de $A$ que no pertenecen a $B$, la notación es la siguiente:\n",
        "\n",
        "\n",
        "$$A − B = \\{ x \\ | \\ x \\in A \\textit{ y } x \\notin B \\}.$$\n",
        "\n",
        "\n",
        "Este conjunto también es conocido como el complemento de $B$ relativo\n",
        "a $A$"
      ],
      "metadata": {
        "id": "_R82_pp9TC1H"
      }
    },
    {
      "cell_type": "markdown",
      "source": [
        "## Ejemplo"
      ],
      "metadata": {
        "id": "0kDdA8mwYUKk"
      }
    },
    {
      "cell_type": "markdown",
      "source": [
        "Consideremos los conjuntos $A = \\{(x, y) \\ | \\ xy < 0 \\}$ y $B = \\{(x, y) \\ | \\ y^2 > 4 \\}$, exprese en notación de conjunto el resultado y muestre en gráficas separadas las regiones del plano cartesiano correspondientes a\n",
        "\n",
        "*   $A \\cup B$\n",
        "*   $A \\cap B$\n",
        "*   $A^{-}$\n",
        "*   $B^{-}$\n",
        "*   $B - A$"
      ],
      "metadata": {
        "id": "xDz_xwcHE8-x"
      }
    },
    {
      "cell_type": "markdown",
      "source": [
        "El resultado son los conjuntos\n",
        "\n",
        "*   $A \\cup B = \\{ (x, y) \\ | \\ xy < 0 \\textit{ o } y^2 > 4 \\}$\n",
        "*   $A \\cap B = \\{ (x, y) \\ | \\ xy < 0 \\textit{ y } y^2 > 4 \\}$\n",
        "*   $A^{-} = \\{ (x, y) \\ | \\ xy \\geq 0 \\}$\n",
        "*   $B^{-} = \\{ (x, y) \\ | \\ y^2 \\leq 4 \\}$\n",
        "*   $B - A = \\{ (x, y) \\ | \\ xy \\geq 0 \\textit{ y } y^{2} > 4 \\}$"
      ],
      "metadata": {
        "id": "D9udKWqvGICP"
      }
    },
    {
      "cell_type": "markdown",
      "source": [
        "## Implementación en `Python`"
      ],
      "metadata": {
        "id": "CL6stcsWHVhx"
      }
    },
    {
      "cell_type": "markdown",
      "source": [
        "Para terminar el ejemplo anterior, haremos la visualización de los conjuntos anteriores con `Sympy`  "
      ],
      "metadata": {
        "id": "GzoTa7hnHfjG"
      }
    },
    {
      "cell_type": "markdown",
      "source": [
        "Utilizaremos el método `plot_implicit` de `Sympy`, el cual nos siver para graficar funciones implícitas o regiones del plano o espacio.\n",
        "\n",
        "La estructura de la función `plot_implicit` es la siguiente:\n",
        "\n",
        "`plot_implicit(expresion, (x , x_min, x_max), (y , y_min, y_max), **kwargs)`\n",
        "\n",
        "Vamos a ver como se implementa esta funnción de `Sympy` para visualizar los conjuntos $A$ y $B$ del ejemplo anterior\n"
      ],
      "metadata": {
        "id": "96CL493Iu2t0"
      }
    },
    {
      "cell_type": "markdown",
      "source": [
        "### Conjunto A"
      ],
      "metadata": {
        "id": "kwB4YuPFIqkt"
      }
    },
    {
      "cell_type": "markdown",
      "source": [
        "$A = \\{(x, y) \\ | \\ xy < 0 \\}$"
      ],
      "metadata": {
        "id": "u0Z9cWPNI1e0"
      }
    },
    {
      "cell_type": "code",
      "source": [
        "from sympy import symbols\n",
        "from sympy import plot_implicit\n",
        "\n",
        "x, y = symbols('x, y')\n",
        "\n",
        "plot_implicit(x*y < 0, (x , -5, 5), (y , -5, 5))"
      ],
      "metadata": {
        "id": "uQFvx-5DvTPX"
      },
      "execution_count": null,
      "outputs": []
    },
    {
      "cell_type": "markdown",
      "source": [
        "### Conjunto B"
      ],
      "metadata": {
        "id": "wecq1J6aJSpM"
      }
    },
    {
      "cell_type": "markdown",
      "source": [
        "$B = \\{(x, y) \\ | \\ y^2 > 4 \\}$"
      ],
      "metadata": {
        "id": "agqu_N3iJU48"
      }
    },
    {
      "cell_type": "code",
      "source": [
        "from sympy import symbols\n",
        "from sympy import plot_implicit, Eq\n",
        "\n",
        "x, y = symbols('x, y')\n",
        "\n",
        "plot_implicit(y**2 > 4, (x , -5, 5), (y , -5, 5))"
      ],
      "metadata": {
        "id": "oMZD9mxetuEh"
      },
      "execution_count": null,
      "outputs": []
    },
    {
      "cell_type": "markdown",
      "source": [
        "### Conjunto $A\\cup B$"
      ],
      "metadata": {
        "id": "tyjbeuNvJrCN"
      }
    },
    {
      "cell_type": "markdown",
      "source": [
        "$A \\cup B = \\{ (x, y) \\ | \\ xy < 0 \\textit{ o } y^2 > 4 \\}$"
      ],
      "metadata": {
        "id": "mRgX1vwiKEz9"
      }
    },
    {
      "cell_type": "markdown",
      "source": [
        "En este caso tenemos que utilizar conjunciones booleanas que vienen incluidas en el módulo de `Sympy`, que nos permiten formar y manipular expresiones lógicas utilizando valores simbólicos y booleanos.\n",
        "\n",
        "Pueden consultar, todas las expresiones disponibles en `Sympy` [aquí](https://docs.sympy.org/latest/modules/logic.html)."
      ],
      "metadata": {
        "id": "Y1sTQnVXKK-C"
      }
    },
    {
      "cell_type": "code",
      "source": [
        "from sympy import symbols\n",
        "from sympy import plot_implicit, Or\n",
        "\n",
        "x, y = symbols('x, y')\n",
        "\n",
        "plot_implicit(Or(y**2 > 4, x*y < 0), (x , -5, 5), (y , -5, 5))"
      ],
      "metadata": {
        "id": "L5CxDm44uDSs"
      },
      "execution_count": null,
      "outputs": []
    },
    {
      "cell_type": "markdown",
      "source": [
        "### Conjunto $A\\cap B$"
      ],
      "metadata": {
        "id": "3sPfECRmLbRb"
      }
    },
    {
      "cell_type": "markdown",
      "source": [
        "$A \\cap B = \\{ (x, y) \\ | \\ xy < 0 \\textit{ y } y^2 > 4 \\}$"
      ],
      "metadata": {
        "id": "QnCzh1FWLfVn"
      }
    },
    {
      "cell_type": "markdown",
      "source": [
        "Analógamente al caso anterior, tenemos que utilizar conjunciones booleanas que vienen incluidas en el módulo de `Sympy`, que nos permiten formar y manipular expresiones lógicas utilizando valores simbólicos y booleanos."
      ],
      "metadata": {
        "id": "huFl3UPjMLFt"
      }
    },
    {
      "cell_type": "code",
      "source": [
        "from sympy import symbols\n",
        "from sympy import plot_implicit, And\n",
        "\n",
        "x, y = symbols('x, y')\n",
        "\n",
        "plot_implicit(And(y**2 > 4, x*y < 0), (x , -5, 5), (y , -5, 5))"
      ],
      "metadata": {
        "id": "iuZZ_Fn1LOFK"
      },
      "execution_count": null,
      "outputs": []
    },
    {
      "cell_type": "markdown",
      "source": [
        "### Conjunto $A^{-}$"
      ],
      "metadata": {
        "id": "80RCmirhMGcg"
      }
    },
    {
      "cell_type": "markdown",
      "source": [
        "$A^{-} = \\{ (x, y) \\ | \\ xy \\geq 0 \\}$"
      ],
      "metadata": {
        "id": "72hmpn_QLMRf"
      }
    },
    {
      "cell_type": "code",
      "source": [
        "from sympy import symbols\n",
        "from sympy import plot_implicit\n",
        "\n",
        "x, y = symbols('x, y')\n",
        "\n",
        "plot_implicit(x*y >= 0, (x , -5, 5), (y , -5, 5))"
      ],
      "metadata": {
        "id": "WGl22peYv_kB"
      },
      "execution_count": null,
      "outputs": []
    },
    {
      "cell_type": "markdown",
      "source": [
        "**Ejercicio**\n",
        "\n",
        "Escriba como encontrar el resultado del conjunto $A^{-}$ pero utilizando conjunciones booleanas de `Sympy`"
      ],
      "metadata": {
        "id": "99X1bWf3M51H"
      }
    },
    {
      "cell_type": "code",
      "source": [
        "# Realiza aquí el ejercicio"
      ],
      "metadata": {
        "id": "FuC2n-1bNLCZ"
      },
      "execution_count": null,
      "outputs": []
    },
    {
      "cell_type": "markdown",
      "source": [
        "### Conjunto $B^{-}$"
      ],
      "metadata": {
        "id": "AcABmj0qNTMi"
      }
    },
    {
      "cell_type": "markdown",
      "source": [
        "$B^{-} = \\{ (x, y) \\ | \\ y^2 \\leq 4 \\}$"
      ],
      "metadata": {
        "id": "iBAYthPrNXR4"
      }
    },
    {
      "cell_type": "code",
      "source": [
        "from sympy import symbols\n",
        "from sympy import plot_implicit\n",
        "\n",
        "x, y = symbols('x, y')\n",
        "\n",
        "plot_implicit(y**2 <= 4, (x , -5, 5), (y , -5, 5))"
      ],
      "metadata": {
        "id": "OBAZbUvKMy09"
      },
      "execution_count": null,
      "outputs": []
    },
    {
      "cell_type": "markdown",
      "source": [
        "**Ejercicio**\n",
        "\n",
        "Escriba como encontrar el resultado del conjunto $A^{-}$ pero utilizando conjunciones booleanas de `Sympy`"
      ],
      "metadata": {
        "id": "OBh4t2VgN23J"
      }
    },
    {
      "cell_type": "code",
      "source": [
        "# Realiza aquí el ejercicio"
      ],
      "metadata": {
        "id": "3u7r-m8xN4ga"
      },
      "execution_count": null,
      "outputs": []
    },
    {
      "cell_type": "markdown",
      "source": [
        "### Conjunto $B - A$"
      ],
      "metadata": {
        "id": "d4e2J2TnN7YH"
      }
    },
    {
      "cell_type": "markdown",
      "source": [
        "$B - A = \\{ (x, y) \\ | \\ xy \\geq 0 \\textit{ y } y^2 > 4 \\}$"
      ],
      "metadata": {
        "id": "ZuzyGv5SODK3"
      }
    },
    {
      "cell_type": "code",
      "source": [
        "from sympy import symbols\n",
        "from sympy import plot_implicit, And\n",
        "\n",
        "x, y = symbols('x, y')\n",
        "\n",
        "plot_implicit(And(y**2 > 4, x*y >= 0), (x , -5, 5), (y , -5, 5))"
      ],
      "metadata": {
        "id": "Bh7qrFPHN4ob"
      },
      "execution_count": null,
      "outputs": []
    },
    {
      "cell_type": "markdown",
      "source": [
        "**Ejercicio**\n",
        "\n",
        "Escriba como encontrar el resultado del conjunto $B-A$ pero SIN modificar los conjuntos originales."
      ],
      "metadata": {
        "id": "7Mj_cVuoOzKQ"
      }
    },
    {
      "cell_type": "code",
      "source": [
        "# Realiza aquí el ejercicio"
      ],
      "metadata": {
        "id": "rEDZKLrXPB1R"
      },
      "execution_count": null,
      "outputs": []
    },
    {
      "cell_type": "markdown",
      "source": [
        "## Tarea"
      ],
      "metadata": {
        "id": "j_UWk-P6O__b"
      }
    },
    {
      "cell_type": "markdown",
      "source": [
        "**Ejercicio**:\n",
        "\n",
        "Realizar una función que calcule cada una la unión, diferencia, intersección y complemento dados los parametros necesarios.\n",
        "\n",
        "\n",
        "**BONUS**\n",
        "\n",
        "Integrar las funciones anterioes a una sola función.   "
      ],
      "metadata": {
        "id": "U0dcsFQ8QHgi"
      }
    },
    {
      "cell_type": "code",
      "source": [
        "# Realiza aquí el ejercicio"
      ],
      "metadata": {
        "id": "lpFgYePkQ4UJ"
      },
      "execution_count": null,
      "outputs": []
    },
    {
      "cell_type": "markdown",
      "source": [
        "**Ejercicio**:\n",
        "\n",
        "Define dos conjuntos $A$ y $B$ y realizar las operaciones realizadas en este colab.\n"
      ],
      "metadata": {
        "id": "gOSv-SepQ6yz"
      }
    },
    {
      "cell_type": "code",
      "source": [
        "# Realiza aquí el ejercicio"
      ],
      "metadata": {
        "id": "BecGq4opRHa3"
      },
      "execution_count": null,
      "outputs": []
    },
    {
      "cell_type": "markdown",
      "source": [
        "## Bibliografía"
      ],
      "metadata": {
        "id": "QDgBwp5wRIoq"
      }
    },
    {
      "cell_type": "markdown",
      "source": [
        "*   Ramírez-Galarza, A. I. (2011). **Geometría analítica. Una introducción a la geometría**. Las Prensas de Ciencias."
      ],
      "metadata": {
        "id": "SHIQyPtfRLGh"
      }
    }
  ]
}